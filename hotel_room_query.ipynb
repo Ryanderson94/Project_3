{
 "cells": [
  {
   "cell_type": "code",
   "execution_count": 124,
   "id": "bb4e371c-ed75-43c6-b28e-e6c762c8f197",
   "metadata": {},
   "outputs": [],
   "source": [
    "import requests\n",
    "import pandas as pd"
   ]
  },
  {
   "cell_type": "code",
   "execution_count": 25,
   "id": "bf6cab69-9db2-440e-b805-e22759e6a979",
   "metadata": {},
   "outputs": [],
   "source": [
    "# Search Location by City Name\n",
    "location_search_url = \"https://booking-com.p.rapidapi.com/v1/hotels/locations\"\n",
    "\n",
    "# Indicate city to search\n",
    "city = \"Vancouver\""
   ]
  },
  {
   "cell_type": "code",
   "execution_count": 26,
   "id": "46525839-7ec2-4fae-8ba0-97eb821c3e12",
   "metadata": {},
   "outputs": [],
   "source": [
    "# Create dictionary\n",
    "location_querystring = {\n",
    "    \"locale\":\"en-gb\",\n",
    "    \"name\":city\n",
    "}"
   ]
  },
  {
   "cell_type": "code",
   "execution_count": 14,
   "id": "68863c7b-dfb8-4578-b054-97cdceaa81e8",
   "metadata": {},
   "outputs": [],
   "source": [
    "headers = {\n",
    "\t\"X-RapidAPI-Key\": \"fb5b528af4mshb57de5533dbee6fp1285bfjsn290be06d9c2a\",\n",
    "\t\"X-RapidAPI-Host\": \"booking-com.p.rapidapi.com\"\n",
    "}"
   ]
  },
  {
   "cell_type": "code",
   "execution_count": 17,
   "id": "93856bd0-2ea6-4171-ad80-6afb48d6597f",
   "metadata": {
    "collapsed": true,
    "jupyter": {
     "outputs_hidden": true
    },
    "tags": []
   },
   "outputs": [
    {
     "name": "stdout",
     "output_type": "stream",
     "text": [
      "[{\"type\":\"ci\",\"region\":\"British Columbia\",\"timezone\":\"America/Vancouver\",\"image_url\":\"https://cf.bstatic.com/xdata/images/city/150x150/653280.jpg?k=22d48ac39a830a7f37538454fdb0857980fe22cda6ac1afd46d31db9453c0893&o=\",\"longitude\":-123.12119,\"cc1\":\"ca\",\"city_ufi\":null,\"dest_id\":\"-575268\",\"latitude\":49.282413,\"city_name\":\"Vancouver\",\"b_max_los_data\":{\"extended_los\":90,\"default_los\":45,\"max_allowed_los\":90,\"has_extended_los\":1,\"experiment\":\"long_stays_android_extend_los_2\",\"is_fullon\":0},\"hotels\":626,\"rtl\":0,\"label\":\"Vancouver, British Columbia, Canada\",\"lc\":\"en\",\"nr_hotels\":626,\"dest_type\":\"city\",\"country\":\"Canada\",\"name\":\"Vancouver\"},{\"dest_id\":\"1629\",\"latitude\":49.28252,\"city_ufi\":-575268,\"city_name\":\"Vancouver\",\"b_max_los_data\":{\"is_fullon\":0,\"experiment\":\"long_stays_android_extend_los_2\",\"extended_los\":90,\"has_extended_los\":1,\"default_los\":45,\"max_allowed_los\":90},\"image_url\":\"https://cf.bstatic.com/xdata/images/district/150x150/42279.jpg?k=6cc63a6b85e4ecdf50fcf48bc8b854a790541ed649f6940d8f632ef33399e79c&o=\",\"timezone\":\"America/Vancouver\",\"longitude\":-123.123375,\"cc1\":\"ca\",\"region\":\"British Columbia\",\"type\":\"di\",\"country\":\"Canada\",\"name\":\"Downtown Vancouver\",\"lc\":\"en\",\"nr_hotels\":102,\"dest_type\":\"district\",\"label\":\"Downtown Vancouver, Vancouver, British Columbia, Canada\",\"rtl\":0,\"hotels\":102},{\"timezone\":\"America/Vancouver\",\"image_url\":\"https://cf.bstatic.com/static/img/plane-100.jpg\",\"longitude\":-123.178,\"cc1\":\"ca\",\"city_ufi\":-575268,\"dest_id\":\"64\",\"latitude\":49.1958,\"b_max_los_data\":{\"extended_los\":90,\"default_los\":45,\"max_allowed_los\":90,\"has_extended_los\":1,\"experiment\":\"long_stays_android_extend_los_2\",\"is_fullon\":0},\"city_name\":\"Vancouver\",\"type\":\"ai\",\"region\":\"British Columbia\",\"nr_hotels\":82,\"lc\":\"en\",\"dest_type\":\"airport\",\"country\":\"Canada\",\"name\":\"Vancouver International Airport\",\"hotels\":82,\"rtl\":0,\"label\":\"Vancouver International Airport, Vancouver, British Columbia, Canada\"},{\"city_name\":\"\",\"b_max_los_data\":{\"extended_los\":90,\"has_extended_los\":1,\"max_allowed_los\":90,\"default_los\":45,\"is_fullon\":0,\"experiment\":\"long_stays_android_extend_los_2\"},\"city_ufi\":null,\"dest_id\":\"3357\",\"latitude\":48.89523,\"longitude\":-124.247,\"cc1\":\"ca\",\"image_url\":\"https://cf.bstatic.com/xdata/images/region/150x150/71841.jpg?k=c58db7d4f60aca7be18d29e5c8ea3543fd44b1228abd85aa07e331259a39b922&o=\",\"region\":\"Vancouver Island\",\"type\":\"re\",\"name\":\"Vancouver Island\",\"country\":\"Canada\",\"dest_type\":\"region\",\"lc\":\"en\",\"nr_hotels\":940,\"rtl\":0,\"label\":\"Vancouver Island, Canada\",\"hotels\":940},{\"hotels\":42,\"label\":\"Vancouver, Washington State, United States\",\"rtl\":0,\"lc\":\"en\",\"nr_hotels\":42,\"dest_type\":\"city\",\"country\":\"United States\",\"name\":\"Vancouver\",\"type\":\"ci\",\"region\":\"Washington State\",\"timezone\":\"America/Los_Angeles\",\"cc1\":\"us\",\"longitude\":-122.67446,\"latitude\":45.6307,\"dest_id\":\"20145212\",\"city_ufi\":null,\"b_max_los_data\":{\"extended_los\":90,\"has_extended_los\":1,\"max_allowed_los\":90,\"default_los\":45,\"is_fullon\":0,\"experiment\":\"long_stays_android_extend_los_2\"},\"city_name\":\"Vancouver\"}]\n"
     ]
    }
   ],
   "source": [
    "# Search Locations\n",
    "location_response = requests.request(\"GET\", url=location_search_url, headers=headers, params=location_querystring)"
   ]
  },
  {
   "cell_type": "code",
   "execution_count": 22,
   "id": "f20354ab-8db4-419d-97fd-e3143d16fa80",
   "metadata": {},
   "outputs": [
    {
     "data": {
      "text/plain": [
       "'-575268'"
      ]
     },
     "execution_count": 22,
     "metadata": {},
     "output_type": "execute_result"
    }
   ],
   "source": [
    "# Obtain Destination Id\n",
    "location_data = location_response.json()\n",
    "destination_id = location_data[0]['dest_id']\n",
    "destination_id"
   ]
  },
  {
   "cell_type": "code",
   "execution_count": 52,
   "id": "169d7ff1-6ce8-454c-bce5-81128554999b",
   "metadata": {},
   "outputs": [],
   "source": [
    "hotel_search_url = \"https://booking-com.p.rapidapi.com/v1/hotels/search\"\n",
    "\n",
    "# Set Dictionary Values\n",
    "checkin_date = \"2022-09-28\"\n",
    "checkout_date = \"2022-09-30\"\n",
    "adults_number = \"2\"\n",
    "room_number = \"1\""
   ]
  },
  {
   "cell_type": "code",
   "execution_count": 107,
   "id": "7084b879-b4ec-44dd-9f82-e3480967ea93",
   "metadata": {},
   "outputs": [],
   "source": [
    "# Create Dictionary\n",
    "hotel_search_querystring = {\n",
    "    \"checkin_date\":checkin_date,\n",
    "    \"checkout_date\":checkout_date,\n",
    "    \"units\":\"metric\",\n",
    "    \"dest_id\":destination_id,\n",
    "    \"dest_type\":\"city\",\n",
    "    \"locale\":\"en-gb\",\n",
    "    \"adults_number\":adults_number,\n",
    "    \"order_by\":\"popularity\",\n",
    "    \"filter_by_currency\":\"USD\",\n",
    "    \"room_number\":room_number,\n",
    "    \"include_adjacency\":\"true\"\n",
    "}"
   ]
  },
  {
   "cell_type": "code",
   "execution_count": 108,
   "id": "1bf6c32e-3ffb-414c-991e-45c0ebe7a83d",
   "metadata": {},
   "outputs": [
    {
     "data": {
      "text/plain": [
       "{'checkin_date': '2022-09-28',\n",
       " 'checkout_date': '2022-09-30',\n",
       " 'units': 'metric',\n",
       " 'dest_id': '-575268',\n",
       " 'dest_type': 'city',\n",
       " 'locale': 'en-gb',\n",
       " 'adults_number': '2',\n",
       " 'order_by': 'popularity',\n",
       " 'filter_by_currency': 'USD',\n",
       " 'room_number': '1',\n",
       " 'include_adjacency': 'true'}"
      ]
     },
     "execution_count": 108,
     "metadata": {},
     "output_type": "execute_result"
    }
   ],
   "source": [
    "hotel_search_querystring"
   ]
  },
  {
   "cell_type": "code",
   "execution_count": 109,
   "id": "0fab2a35-6862-49ca-b2a0-e809886fa706",
   "metadata": {},
   "outputs": [],
   "source": [
    "# Search Hotels\n",
    "hotel_response = requests.request(\"GET\", url = hotel_search_url, headers=headers, params=hotel_search_querystring)"
   ]
  },
  {
   "cell_type": "code",
   "execution_count": 118,
   "id": "6bd9532d-e2d2-4310-99fa-d0f4ec97277b",
   "metadata": {},
   "outputs": [],
   "source": [
    "hotel_data = hotel_response.json()\n",
    "hotel_list = []\n",
    "price_list = []"
   ]
  },
  {
   "cell_type": "code",
   "execution_count": 119,
   "id": "8158c0c0-3135-4993-a20b-06666c536423",
   "metadata": {},
   "outputs": [],
   "source": [
    "i = 0\n",
    "while i < 20:\n",
    "    hotel_list.append(hotel_data['result'][i]['hotel_name'])\n",
    "    price_list.append(hotel_data['result'][i]['price_breakdown']['all_inclusive_price'])\n",
    "    i += 1"
   ]
  },
  {
   "cell_type": "code",
   "execution_count": 129,
   "id": "2d557c9b-837a-4d50-96b0-7a2d254462b2",
   "metadata": {
    "tags": []
   },
   "outputs": [],
   "source": [
    "final_hotel_list = [hotel_list, price_list]"
   ]
  },
  {
   "cell_type": "code",
   "execution_count": 135,
   "id": "34f8b93c-1920-4b2d-813d-1785f8df4984",
   "metadata": {
    "tags": []
   },
   "outputs": [
    {
     "data": {
      "text/html": [
       "<div>\n",
       "<style scoped>\n",
       "    .dataframe tbody tr th:only-of-type {\n",
       "        vertical-align: middle;\n",
       "    }\n",
       "\n",
       "    .dataframe tbody tr th {\n",
       "        vertical-align: top;\n",
       "    }\n",
       "\n",
       "    .dataframe thead th {\n",
       "        text-align: right;\n",
       "    }\n",
       "</style>\n",
       "<table border=\"1\" class=\"dataframe\">\n",
       "  <thead>\n",
       "    <tr style=\"text-align: right;\">\n",
       "      <th></th>\n",
       "      <th>Price</th>\n",
       "    </tr>\n",
       "    <tr>\n",
       "      <th>Hotel Name</th>\n",
       "      <th></th>\n",
       "    </tr>\n",
       "  </thead>\n",
       "  <tbody>\n",
       "    <tr>\n",
       "      <th>Vancouver shaughnessy guest home</th>\n",
       "      <td>367.69</td>\n",
       "    </tr>\n",
       "    <tr>\n",
       "      <th>The Burrard</th>\n",
       "      <td>674.69</td>\n",
       "    </tr>\n",
       "    <tr>\n",
       "      <th>The Listel Hotel Vancouver</th>\n",
       "      <td>826.15</td>\n",
       "    </tr>\n",
       "    <tr>\n",
       "      <th>GEC Granville Suites Downtown</th>\n",
       "      <td>591.95</td>\n",
       "    </tr>\n",
       "    <tr>\n",
       "      <th>Sandman Hotel Vancouver Downtown</th>\n",
       "      <td>585.2</td>\n",
       "    </tr>\n",
       "    <tr>\n",
       "      <th>Sandman Suites Vancouver on Davie</th>\n",
       "      <td>726.21</td>\n",
       "    </tr>\n",
       "    <tr>\n",
       "      <th>Atrium Inn Vancouver</th>\n",
       "      <td>684.28</td>\n",
       "    </tr>\n",
       "    <tr>\n",
       "      <th>Carmana Plaza</th>\n",
       "      <td>843.65</td>\n",
       "    </tr>\n",
       "    <tr>\n",
       "      <th>Samesun Vancouver</th>\n",
       "      <td>429.41</td>\n",
       "    </tr>\n",
       "    <tr>\n",
       "      <th>Carey Centre</th>\n",
       "      <td>328.49</td>\n",
       "    </tr>\n",
       "    <tr>\n",
       "      <th>Coast Coal Harbour Vancouver Hotel by APA</th>\n",
       "      <td>806.52</td>\n",
       "    </tr>\n",
       "    <tr>\n",
       "      <th>Hotel Le Soleil by Executive Hotels</th>\n",
       "      <td>900.36</td>\n",
       "    </tr>\n",
       "    <tr>\n",
       "      <th>The Sutton Place Hotel Vancouver</th>\n",
       "      <td>807.29</td>\n",
       "    </tr>\n",
       "    <tr>\n",
       "      <th>Paradox Hotel Vancouver</th>\n",
       "      <td>1163.36</td>\n",
       "    </tr>\n",
       "    <tr>\n",
       "      <th>Blue Horizon Hotel</th>\n",
       "      <td>801.59</td>\n",
       "    </tr>\n",
       "    <tr>\n",
       "      <th>Barclay Hotel</th>\n",
       "      <td>326.65</td>\n",
       "    </tr>\n",
       "    <tr>\n",
       "      <th>Rosellen Suites at Stanley Park</th>\n",
       "      <td>694.16</td>\n",
       "    </tr>\n",
       "    <tr>\n",
       "      <th>Georgian Court Hotel, BW Premier Collection</th>\n",
       "      <td>781.49</td>\n",
       "    </tr>\n",
       "    <tr>\n",
       "      <th>Gage Suites at UBC</th>\n",
       "      <td>408.12</td>\n",
       "    </tr>\n",
       "    <tr>\n",
       "      <th>EXchange Hotel Vancouver</th>\n",
       "      <td>913.68</td>\n",
       "    </tr>\n",
       "  </tbody>\n",
       "</table>\n",
       "</div>"
      ],
      "text/plain": [
       "                                               Price\n",
       "Hotel Name                                          \n",
       "Vancouver shaughnessy guest home              367.69\n",
       "The Burrard                                   674.69\n",
       "The Listel Hotel Vancouver                    826.15\n",
       "GEC Granville Suites Downtown                 591.95\n",
       "Sandman Hotel Vancouver Downtown               585.2\n",
       "Sandman Suites Vancouver on Davie             726.21\n",
       "Atrium Inn Vancouver                          684.28\n",
       "Carmana Plaza                                 843.65\n",
       "Samesun Vancouver                             429.41\n",
       "Carey Centre                                  328.49\n",
       "Coast Coal Harbour Vancouver Hotel by APA     806.52\n",
       "Hotel Le Soleil by Executive Hotels           900.36\n",
       "The Sutton Place Hotel Vancouver              807.29\n",
       "Paradox Hotel Vancouver                      1163.36\n",
       "Blue Horizon Hotel                            801.59\n",
       "Barclay Hotel                                 326.65\n",
       "Rosellen Suites at Stanley Park               694.16\n",
       "Georgian Court Hotel, BW Premier Collection   781.49\n",
       "Gage Suites at UBC                            408.12\n",
       "EXchange Hotel Vancouver                      913.68"
      ]
     },
     "execution_count": 135,
     "metadata": {},
     "output_type": "execute_result"
    }
   ],
   "source": [
    "hotel_price_df = pd.DataFrame(final_hotel_list).transpose()\n",
    "hotel_price_df.columns = ['Hotel Name', 'Price']\n",
    "hotel_price_df.set_index('Hotel Name')"
   ]
  }
 ],
 "metadata": {
  "kernelspec": {
   "display_name": "Python (dev)",
   "language": "python",
   "name": "dev"
  },
  "language_info": {
   "codemirror_mode": {
    "name": "ipython",
    "version": 3
   },
   "file_extension": ".py",
   "mimetype": "text/x-python",
   "name": "python",
   "nbconvert_exporter": "python",
   "pygments_lexer": "ipython3",
   "version": "3.7.11"
  }
 },
 "nbformat": 4,
 "nbformat_minor": 5
}
